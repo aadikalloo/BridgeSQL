{
 "cells": [
  {
   "cell_type": "code",
   "execution_count": null,
   "metadata": {
    "collapsed": true
   },
   "outputs": [],
   "source": [
    "datasetX = torch.Tensor(1000000, 2);\n",
    "datasetY = torch.Tensor(1000000, 1);"
   ]
  },
  {
   "cell_type": "code",
   "execution_count": null,
   "metadata": {
    "collapsed": true
   },
   "outputs": [],
   "source": [
    "vali = -5;\n",
    "counter = 1\n",
    "for i=1,1000 do\n",
    "    valj = -5;\n",
    "    for j=1,1000 do\n",
    "        datasetX[counter][1] = vali;\n",
    "        datasetX[counter][2] = valj;\n",
    "        datasetY[counter] = 2*vali^2 - 3*valj^2 + 1;\n",
    "        valj = valj + 0.01;\n",
    "        counter = counter + 1;\n",
    "    end\n",
    "    vali = vali + 0.01;\n",
    "    print(i)\n",
    "end"
   ]
  },
  {
   "cell_type": "code",
   "execution_count": null,
   "metadata": {
    "collapsed": false
   },
   "outputs": [],
   "source": [
    "y = torch.round(datasetY*1000000)*0.0000001; --round to 5 decimal places\n",
    "print(y[600601])"
   ]
  },
  {
   "cell_type": "code",
   "execution_count": null,
   "metadata": {
    "collapsed": false
   },
   "outputs": [],
   "source": [
    "require 'torch'\n",
    "require 'optim'\n",
    "require 'nn'\n",
    "f = torch.cat(y, datasetX, 2);\n",
    "print(f[600601])"
   ]
  },
  {
   "cell_type": "code",
   "execution_count": null,
   "metadata": {
    "collapsed": false
   },
   "outputs": [],
   "source": [
    "a = torch.Tensor(2)\n",
    "a[1] = 1; a[2] = 1;\n",
    "\n",
    "mlp = nn.Sequential()\n",
    "mlp:add( nn.Linear(2, 6) ) -- 10 input, 25 hidden units\n",
    "mlp:add( nn.Tanh() ) -- some hyperbolic tangent transfer function\n",
    "mlp:add( nn.Linear(6, 1) ) -- 1 output\n",
    "print(mlp:forward(a))"
   ]
  },
  {
   "cell_type": "code",
   "execution_count": null,
   "metadata": {
    "collapsed": true
   },
   "outputs": [],
   "source": [
    "dataset={};\n",
    "function dataset:size() return 1000000 end -- 100 examples\n",
    "for i=1,dataset:size() do \n",
    "    local input = datasetX[i];     -- normally distributed example in 2d\n",
    "    local output = torch.Tensor(1);\n",
    "    output[1] = 2*input[1]^2 - 3*input[2]^2 + 1;\n",
    "    dataset[i] = {input, output}\n",
    "    print(i)\n",
    "end"
   ]
  },
  {
   "cell_type": "code",
   "execution_count": null,
   "metadata": {
    "collapsed": true
   },
   "outputs": [],
   "source": [
    "require \"nn\"\n",
    "mlp = nn.Sequential();  -- make a multi-layer perceptron\n",
    "inputs = 2; outputs = 1; HUs = 20; -- parameters\n",
    "mlp:add(nn.Linear(inputs, HUs))\n",
    "mlp:add(nn.Tanh())\n",
    "mlp:add(nn.Linear(HUs, outputs))"
   ]
  },
  {
   "cell_type": "code",
   "execution_count": null,
   "metadata": {
    "collapsed": false
   },
   "outputs": [],
   "source": [
    "criterion = nn.MSECriterion()  \n",
    "trainer = nn.StochasticGradient(mlp, criterion)\n",
    "trainer.learningRate = 0.0001\n",
    "trainer.maxIteration = 100\n",
    "trainer:train(dataset)"
   ]
  },
  {
   "cell_type": "code",
   "execution_count": null,
   "metadata": {
    "collapsed": false
   },
   "outputs": [],
   "source": [
    "torch.save('ass4_1.dat', mlp)"
   ]
  },
  {
   "cell_type": "code",
   "execution_count": null,
   "metadata": {
    "collapsed": false
   },
   "outputs": [],
   "source": [
    "torch.save('ass4dataset.dat', dataset)"
   ]
  },
  {
   "cell_type": "code",
   "execution_count": null,
   "metadata": {
    "collapsed": false
   },
   "outputs": [],
   "source": [
    "torch.save('datasetX.dat', datasetX)"
   ]
  },
  {
   "cell_type": "code",
   "execution_count": null,
   "metadata": {
    "collapsed": false
   },
   "outputs": [],
   "source": [
    "torch.save('datasetY.dat', datasetY)"
   ]
  },
  {
   "cell_type": "code",
   "execution_count": null,
   "metadata": {
    "collapsed": false
   },
   "outputs": [],
   "source": [
    "torch.save('y.dat', y)"
   ]
  },
  {
   "cell_type": "code",
   "execution_count": null,
   "metadata": {
    "collapsed": true
   },
   "outputs": [],
   "source": []
  }
 ],
 "metadata": {
  "kernelspec": {
   "display_name": "iTorch",
   "language": "lua",
   "name": "itorch"
  },
  "language_info": {
   "name": "lua",
   "version": "5.1"
  }
 },
 "nbformat": 4,
 "nbformat_minor": 0
}
